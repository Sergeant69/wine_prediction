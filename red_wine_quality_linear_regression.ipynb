{
  "metadata": {
    "kernelspec": {
      "language": "python",
      "display_name": "Python 3",
      "name": "python3"
    },
    "language_info": {
      "pygments_lexer": "ipython3",
      "nbconvert_exporter": "python",
      "version": "3.6.4",
      "file_extension": ".py",
      "codemirror_mode": {
        "name": "ipython",
        "version": 3
      },
      "name": "python",
      "mimetype": "text/x-python"
    },
    "colab": {
      "provenance": [],
      "include_colab_link": true
    }
  },
  "nbformat_minor": 0,
  "nbformat": 4,
  "cells": [
    {
      "cell_type": "markdown",
      "metadata": {
        "id": "view-in-github",
        "colab_type": "text"
      },
      "source": [
        "<a href=\"https://colab.research.google.com/github/Sergeant69/wine_prediction/blob/main/red_wine_quality_linear_regression.ipynb\" target=\"_parent\"><img src=\"https://colab.research.google.com/assets/colab-badge.svg\" alt=\"Open In Colab\"/></a>"
      ]
    },
    {
      "cell_type": "code",
      "source": [
        "import warnings\n",
        "warnings.filterwarnings('ignore')"
      ],
      "metadata": {
        "_uuid": "d629ff2d2480ee46fbb7e2d37f6b5fab8052498a",
        "_cell_guid": "79c7e3d0-c299-4dcb-8224-4455121ee9b0",
        "trusted": true,
        "id": "j7OFMWoMDqW3"
      },
      "execution_count": null,
      "outputs": []
    },
    {
      "cell_type": "code",
      "source": [
        "import pandas as pd\n",
        "import numpy as np\n",
        "import matplotlib.pyplot as plt\n",
        "import seaborn as sns\n",
        "%matplotlib inline"
      ],
      "metadata": {
        "trusted": true,
        "id": "cJxODBXcDqW9"
      },
      "execution_count": null,
      "outputs": []
    },
    {
      "cell_type": "code",
      "source": [
        "wine = pd.read_csv(\"winequality-red.csv\")"
      ],
      "metadata": {
        "trusted": true,
        "id": "mQp_KMJxDqW_"
      },
      "execution_count": null,
      "outputs": []
    },
    {
      "cell_type": "code",
      "source": [
        "wine.head()"
      ],
      "metadata": {
        "trusted": true,
        "id": "lVG6Cc_CDqXA"
      },
      "execution_count": null,
      "outputs": []
    },
    {
      "cell_type": "code",
      "source": [
        "wine.info()"
      ],
      "metadata": {
        "trusted": true,
        "id": "FjUVVcsMDqXB"
      },
      "execution_count": null,
      "outputs": []
    },
    {
      "cell_type": "code",
      "source": [
        "wine.describe()"
      ],
      "metadata": {
        "trusted": true,
        "id": "D82-lHlTDqXC"
      },
      "execution_count": null,
      "outputs": []
    },
    {
      "cell_type": "code",
      "source": [
        "wine.shape"
      ],
      "metadata": {
        "trusted": true,
        "id": "VgnKIwg0DqXD"
      },
      "execution_count": null,
      "outputs": []
    },
    {
      "cell_type": "markdown",
      "source": [
        "## Quality Check"
      ],
      "metadata": {
        "id": "XOnfS8fzDqXE"
      }
    },
    {
      "cell_type": "code",
      "source": [
        "round(100*(wine.isnull().sum()/len(wine)),2).sort_values(ascending=False)"
      ],
      "metadata": {
        "trusted": true,
        "id": "stxJjx9tDqXH"
      },
      "execution_count": null,
      "outputs": []
    },
    {
      "cell_type": "code",
      "source": [
        "round(100*(wine.isnull().sum(axis=1)/len(wine)),2).sort_values(ascending=False)"
      ],
      "metadata": {
        "trusted": true,
        "id": "a0gX2_DHDqXI"
      },
      "execution_count": null,
      "outputs": []
    },
    {
      "cell_type": "markdown",
      "source": [
        "## **No missing / Null value in either rows or columns**"
      ],
      "metadata": {
        "id": "HiKrmuwbDqXK"
      }
    },
    {
      "cell_type": "code",
      "source": [
        "dub_wine=wine.copy()\n",
        "dub_wine.drop_duplicates(subset=None,inplace=True)"
      ],
      "metadata": {
        "trusted": true,
        "id": "yNhPW61fDqXL"
      },
      "execution_count": null,
      "outputs": []
    },
    {
      "cell_type": "code",
      "source": [
        "dub_wine.shape"
      ],
      "metadata": {
        "trusted": true,
        "id": "6mB9t54CDqXM"
      },
      "execution_count": null,
      "outputs": []
    },
    {
      "cell_type": "code",
      "source": [
        "wine.shape"
      ],
      "metadata": {
        "trusted": true,
        "id": "rSRtvIxxDqXN"
      },
      "execution_count": null,
      "outputs": []
    },
    {
      "cell_type": "markdown",
      "source": [
        "## **The shape after running the drop duplicate command is not same as the original dataframe.Hence we can conclude that there were duplicate values in the dataset.**"
      ],
      "metadata": {
        "id": "FMnzDz0VDqXO"
      }
    },
    {
      "cell_type": "markdown",
      "source": [
        "### Assign non duplicate data to original data"
      ],
      "metadata": {
        "id": "LHLbRBpoDqXQ"
      }
    },
    {
      "cell_type": "code",
      "source": [
        "wine=dub_wine"
      ],
      "metadata": {
        "trusted": true,
        "id": "dUP6ok5YDqXR"
      },
      "execution_count": null,
      "outputs": []
    },
    {
      "cell_type": "code",
      "source": [
        "for col in wine:\n",
        "    print(wine[col].value_counts(ascending=False), '\\n\\n\\n')"
      ],
      "metadata": {
        "trusted": true,
        "id": "lqcJ7zdVDqXS"
      },
      "execution_count": null,
      "outputs": []
    },
    {
      "cell_type": "markdown",
      "source": [
        "## **There seems to be no Junk/Unknown values in the entire dataset**"
      ],
      "metadata": {
        "id": "HS21-_LoDqXS"
      }
    },
    {
      "cell_type": "markdown",
      "source": [
        "# *Data Split*"
      ],
      "metadata": {
        "id": "Cg2aPWOpDqXT"
      }
    },
    {
      "cell_type": "code",
      "source": [
        "wine.shape"
      ],
      "metadata": {
        "trusted": true,
        "id": "FG5hxL1YDqXV"
      },
      "execution_count": null,
      "outputs": []
    },
    {
      "cell_type": "code",
      "source": [
        "wine.info()"
      ],
      "metadata": {
        "trusted": true,
        "id": "nBStZj6bDqXW"
      },
      "execution_count": null,
      "outputs": []
    },
    {
      "cell_type": "code",
      "source": [
        "from sklearn.model_selection import train_test_split\n",
        "np.random.seed(0)\n",
        "df_train,df_test=train_test_split(wine,train_size=0.7,test_size=0.3,random_state=100)"
      ],
      "metadata": {
        "trusted": true,
        "id": "y02uzURxDqXX"
      },
      "execution_count": null,
      "outputs": []
    },
    {
      "cell_type": "code",
      "source": [
        "df_train.info()"
      ],
      "metadata": {
        "trusted": true,
        "id": "M4pRHCmlDqXY"
      },
      "execution_count": null,
      "outputs": []
    },
    {
      "cell_type": "code",
      "source": [
        "df_train.shape"
      ],
      "metadata": {
        "trusted": true,
        "id": "LAv7_M1sDqXZ"
      },
      "execution_count": null,
      "outputs": []
    },
    {
      "cell_type": "code",
      "source": [
        "df_test.info()"
      ],
      "metadata": {
        "trusted": true,
        "id": "if3-_Q-8DqXa"
      },
      "execution_count": null,
      "outputs": []
    },
    {
      "cell_type": "code",
      "source": [
        "df_train.shape"
      ],
      "metadata": {
        "trusted": true,
        "id": "oZIvlhGZDqXb"
      },
      "execution_count": null,
      "outputs": []
    },
    {
      "cell_type": "markdown",
      "source": [
        "# **EDA**"
      ],
      "metadata": {
        "id": "O8VItiF9DqXc"
      }
    },
    {
      "cell_type": "code",
      "source": [
        "df_train.info()"
      ],
      "metadata": {
        "trusted": true,
        "id": "857Ndf6iDqXc"
      },
      "execution_count": null,
      "outputs": []
    },
    {
      "cell_type": "code",
      "source": [
        "df_train.columns"
      ],
      "metadata": {
        "trusted": true,
        "id": "owRLVmLbDqXd"
      },
      "execution_count": null,
      "outputs": []
    },
    {
      "cell_type": "code",
      "source": [
        "sns.pairplot(df_train)\n",
        "plt.show()"
      ],
      "metadata": {
        "trusted": true,
        "id": "zhZB3jZcDqXd"
      },
      "execution_count": null,
      "outputs": []
    },
    {
      "cell_type": "markdown",
      "source": [
        "## Correlation Matrix"
      ],
      "metadata": {
        "id": "98M1qNrIDqXe"
      }
    },
    {
      "cell_type": "code",
      "source": [
        "plt.figure(figsize=(20,25))\n",
        "sns.heatmap(wine.corr(), annot=True,cmap='RdBu')\n",
        "plt.show()"
      ],
      "metadata": {
        "trusted": true,
        "id": "UTMbWQeEDqXf"
      },
      "execution_count": null,
      "outputs": []
    },
    {
      "cell_type": "markdown",
      "source": [
        "## Rescaling"
      ],
      "metadata": {
        "id": "5b7MvJCIDqXg"
      }
    },
    {
      "cell_type": "code",
      "source": [
        "from sklearn.preprocessing import MinMaxScaler"
      ],
      "metadata": {
        "trusted": true,
        "id": "rcn3AXPhDqXg"
      },
      "execution_count": null,
      "outputs": []
    },
    {
      "cell_type": "code",
      "source": [
        "scaler=MinMaxScaler()"
      ],
      "metadata": {
        "trusted": true,
        "id": "5Fwzoq0TDqXh"
      },
      "execution_count": null,
      "outputs": []
    },
    {
      "cell_type": "code",
      "source": [
        "df_train.head()"
      ],
      "metadata": {
        "trusted": true,
        "id": "3wCDDiNNDqXi"
      },
      "execution_count": null,
      "outputs": []
    },
    {
      "cell_type": "code",
      "source": [
        "df_train.columns"
      ],
      "metadata": {
        "trusted": true,
        "id": "T8NY9DyKDqXi"
      },
      "execution_count": null,
      "outputs": []
    },
    {
      "cell_type": "code",
      "source": [
        "df_train[:]=scaler.fit_transform(df_train[:])"
      ],
      "metadata": {
        "trusted": true,
        "id": "Gzl-amGvDqXi"
      },
      "execution_count": null,
      "outputs": []
    },
    {
      "cell_type": "code",
      "source": [
        "df_train.head()"
      ],
      "metadata": {
        "trusted": true,
        "id": "sbGRabAfDqXu"
      },
      "execution_count": null,
      "outputs": []
    },
    {
      "cell_type": "code",
      "source": [
        "y_train=df_train.pop('quality')\n",
        "X_train=df_train"
      ],
      "metadata": {
        "trusted": true,
        "id": "us7wRTZaDqXv"
      },
      "execution_count": null,
      "outputs": []
    },
    {
      "cell_type": "code",
      "source": [
        "from sklearn.feature_selection import RFE\n",
        "from sklearn.linear_model import LinearRegression"
      ],
      "metadata": {
        "trusted": true,
        "id": "FbG52KfsDqXv"
      },
      "execution_count": null,
      "outputs": []
    },
    {
      "cell_type": "code",
      "source": [
        "lm = LinearRegression()\n",
        "lm.fit(X_train, y_train)\n",
        "rfe = RFE(lm,9)\n",
        "rfe = rfe.fit(X_train, y_train)"
      ],
      "metadata": {
        "trusted": true,
        "id": "ARWNiUKlDqXw"
      },
      "execution_count": null,
      "outputs": []
    },
    {
      "cell_type": "code",
      "source": [
        "list(zip(X_train.columns,rfe.support_,rfe.ranking_))"
      ],
      "metadata": {
        "trusted": true,
        "id": "2VbxbsNYDqXw"
      },
      "execution_count": null,
      "outputs": []
    },
    {
      "cell_type": "code",
      "source": [
        "col = X_train.columns[rfe.support_]\n",
        "col"
      ],
      "metadata": {
        "trusted": true,
        "id": "f_KQq0y1DqXx"
      },
      "execution_count": null,
      "outputs": []
    },
    {
      "cell_type": "code",
      "source": [
        "X_train.columns[~rfe.support_]"
      ],
      "metadata": {
        "trusted": true,
        "id": "Nd-Ctp3WDqXx"
      },
      "execution_count": null,
      "outputs": []
    },
    {
      "cell_type": "code",
      "source": [
        "X_train_rfe = X_train[col]"
      ],
      "metadata": {
        "trusted": true,
        "id": "5jo1_saxDqXx"
      },
      "execution_count": null,
      "outputs": []
    },
    {
      "cell_type": "markdown",
      "source": [
        "# Building Linear Model"
      ],
      "metadata": {
        "id": "df1AdGHgDqXy"
      }
    },
    {
      "cell_type": "markdown",
      "source": [
        "## Model 1"
      ],
      "metadata": {
        "id": "0waLx8DpDqXz"
      }
    },
    {
      "cell_type": "markdown",
      "source": [
        "### VIF Check"
      ],
      "metadata": {
        "id": "kfRqo2zpDqXz"
      }
    },
    {
      "cell_type": "code",
      "source": [
        "from statsmodels.stats.outliers_influence import variance_inflation_factor\n",
        "vif = pd.DataFrame()\n",
        "vif['Features'] = X_train_rfe.columns\n",
        "vif['VIF'] = [variance_inflation_factor(X_train_rfe.values, i) for i in range(X_train_rfe.shape[1])]\n",
        "vif['VIF'] = round(vif['VIF'], 2)\n",
        "vif = vif.sort_values(by = \"VIF\", ascending = False)\n",
        "vif"
      ],
      "metadata": {
        "trusted": true,
        "id": "MR86awlCDqX0"
      },
      "execution_count": null,
      "outputs": []
    },
    {
      "cell_type": "code",
      "source": [
        "import statsmodels.api as sm\n",
        "X_train_lm1 = sm.add_constant(X_train_rfe)\n",
        "lr1 = sm.OLS(y_train, X_train_lm1).fit()"
      ],
      "metadata": {
        "trusted": true,
        "id": "p84UTyA9DqX0"
      },
      "execution_count": null,
      "outputs": []
    },
    {
      "cell_type": "code",
      "source": [
        "lr1.params"
      ],
      "metadata": {
        "trusted": true,
        "id": "mlwdXirDDqX1"
      },
      "execution_count": null,
      "outputs": []
    },
    {
      "cell_type": "code",
      "source": [
        "print(lr1.summary())"
      ],
      "metadata": {
        "trusted": true,
        "id": "xAVG7fQeDqX1"
      },
      "execution_count": null,
      "outputs": []
    },
    {
      "cell_type": "markdown",
      "source": [
        "## Model 2"
      ],
      "metadata": {
        "id": "VsB178qQDqX2"
      }
    },
    {
      "cell_type": "code",
      "source": [
        "X_train_new = X_train_rfe.drop([\"residual sugar\"], axis = 1)"
      ],
      "metadata": {
        "trusted": true,
        "id": "qsRmz2hLDqX2"
      },
      "execution_count": null,
      "outputs": []
    },
    {
      "cell_type": "markdown",
      "source": [
        "### VIF"
      ],
      "metadata": {
        "id": "9mDhe6pBDqX3"
      }
    },
    {
      "cell_type": "code",
      "source": [
        "from statsmodels.stats.outliers_influence import variance_inflation_factor\n",
        "vif = pd.DataFrame()\n",
        "vif['Features'] = X_train_new.columns\n",
        "vif['VIF'] = [variance_inflation_factor(X_train_new.values, i) for i in range(X_train_new.shape[1])]\n",
        "vif['VIF'] = round(vif['VIF'], 2)\n",
        "vif = vif.sort_values(by = \"VIF\", ascending = False)\n",
        "vif"
      ],
      "metadata": {
        "trusted": true,
        "id": "C-s9pthcDqX3"
      },
      "execution_count": null,
      "outputs": []
    },
    {
      "cell_type": "code",
      "source": [
        "X_train_lm2 = sm.add_constant(X_train_new)\n",
        "lr2 = sm.OLS(y_train, X_train_lm2).fit()"
      ],
      "metadata": {
        "trusted": true,
        "id": "wAbnr3FjDqX4"
      },
      "execution_count": null,
      "outputs": []
    },
    {
      "cell_type": "code",
      "source": [
        "lr2.params"
      ],
      "metadata": {
        "trusted": true,
        "id": "uCVet7UFDqX4"
      },
      "execution_count": null,
      "outputs": []
    },
    {
      "cell_type": "code",
      "source": [
        "print(lr2.summary())"
      ],
      "metadata": {
        "trusted": true,
        "id": "uQ7erjn4DqX4"
      },
      "execution_count": null,
      "outputs": []
    },
    {
      "cell_type": "markdown",
      "source": [
        "## Model 3"
      ],
      "metadata": {
        "id": "4aKBdTPtDqX4"
      }
    },
    {
      "cell_type": "code",
      "source": [
        "X_train_new = X_train_new.drop([\"density\"], axis = 1)"
      ],
      "metadata": {
        "trusted": true,
        "id": "5Vkej3kxDqX4"
      },
      "execution_count": null,
      "outputs": []
    },
    {
      "cell_type": "markdown",
      "source": [
        "### VIF"
      ],
      "metadata": {
        "id": "6QCZS4anDqX5"
      }
    },
    {
      "cell_type": "code",
      "source": [
        "from statsmodels.stats.outliers_influence import variance_inflation_factor\n",
        "vif = pd.DataFrame()\n",
        "vif['Features'] = X_train_new.columns\n",
        "vif['VIF'] = [variance_inflation_factor(X_train_new.values, i) for i in range(X_train_new.shape[1])]\n",
        "vif['VIF'] = round(vif['VIF'], 2)\n",
        "vif = vif.sort_values(by = \"VIF\", ascending = False)\n",
        "vif"
      ],
      "metadata": {
        "trusted": true,
        "id": "unMACJ-LDqX5"
      },
      "execution_count": null,
      "outputs": []
    },
    {
      "cell_type": "code",
      "source": [
        "X_train_lm3 = sm.add_constant(X_train_new)\n",
        "lr3 = sm.OLS(y_train, X_train_lm3).fit()"
      ],
      "metadata": {
        "trusted": true,
        "id": "OFCcSOM4DqX5"
      },
      "execution_count": null,
      "outputs": []
    },
    {
      "cell_type": "code",
      "source": [
        "lr3.params"
      ],
      "metadata": {
        "trusted": true,
        "id": "Xw5-oSVaDqX5"
      },
      "execution_count": null,
      "outputs": []
    },
    {
      "cell_type": "code",
      "source": [
        "print(lr3.summary())"
      ],
      "metadata": {
        "trusted": true,
        "id": "Uyge7kq8DqX6"
      },
      "execution_count": null,
      "outputs": []
    },
    {
      "cell_type": "markdown",
      "source": [
        "## Model 4"
      ],
      "metadata": {
        "id": "6PgVdtgmDqX6"
      }
    },
    {
      "cell_type": "code",
      "source": [
        "X_train_new = X_train_new.drop([\"free sulfur dioxide\"], axis = 1)"
      ],
      "metadata": {
        "trusted": true,
        "id": "2jB2kg4sDqX6"
      },
      "execution_count": null,
      "outputs": []
    },
    {
      "cell_type": "markdown",
      "source": [
        "### VIF"
      ],
      "metadata": {
        "id": "YljbaDFYDqX6"
      }
    },
    {
      "cell_type": "code",
      "source": [
        "from statsmodels.stats.outliers_influence import variance_inflation_factor\n",
        "vif = pd.DataFrame()\n",
        "vif['Features'] = X_train_new.columns\n",
        "vif['VIF'] = [variance_inflation_factor(X_train_new.values, i) for i in range(X_train_new.shape[1])]\n",
        "vif['VIF'] = round(vif['VIF'], 2)\n",
        "vif = vif.sort_values(by = \"VIF\", ascending = False)\n",
        "vif"
      ],
      "metadata": {
        "trusted": true,
        "id": "3eIvc77WDqX7"
      },
      "execution_count": null,
      "outputs": []
    },
    {
      "cell_type": "code",
      "source": [
        "X_train_lm4 = sm.add_constant(X_train_new)\n",
        "lr4 = sm.OLS(y_train, X_train_lm4).fit()"
      ],
      "metadata": {
        "trusted": true,
        "id": "lznuLzq5DqX7"
      },
      "execution_count": null,
      "outputs": []
    },
    {
      "cell_type": "code",
      "source": [
        "lr4.params"
      ],
      "metadata": {
        "trusted": true,
        "id": "6f37dLE5DqX7"
      },
      "execution_count": null,
      "outputs": []
    },
    {
      "cell_type": "code",
      "source": [
        "print(lr4.summary())"
      ],
      "metadata": {
        "trusted": true,
        "id": "cAFGOAxvDqX7"
      },
      "execution_count": null,
      "outputs": []
    },
    {
      "cell_type": "markdown",
      "source": [
        "## Model 5"
      ],
      "metadata": {
        "id": "mGi31_bSDqX7"
      }
    },
    {
      "cell_type": "code",
      "source": [
        "X_train_new = X_train_new.drop([\"pH\"], axis = 1)"
      ],
      "metadata": {
        "trusted": true,
        "id": "M4KEU8zQDqX8"
      },
      "execution_count": null,
      "outputs": []
    },
    {
      "cell_type": "markdown",
      "source": [
        "### VIF"
      ],
      "metadata": {
        "id": "dajbapzeDqX8"
      }
    },
    {
      "cell_type": "code",
      "source": [
        "from statsmodels.stats.outliers_influence import variance_inflation_factor\n",
        "vif = pd.DataFrame()\n",
        "vif['Features'] = X_train_new.columns\n",
        "vif['VIF'] = [variance_inflation_factor(X_train_new.values, i) for i in range(X_train_new.shape[1])]\n",
        "vif['VIF'] = round(vif['VIF'], 2)\n",
        "vif = vif.sort_values(by = \"VIF\", ascending = False)\n",
        "vif"
      ],
      "metadata": {
        "trusted": true,
        "id": "UdzMR0JmDqX8"
      },
      "execution_count": null,
      "outputs": []
    },
    {
      "cell_type": "code",
      "source": [
        "X_train_lm5 = sm.add_constant(X_train_new)\n",
        "lr5 = sm.OLS(y_train, X_train_lm5).fit()"
      ],
      "metadata": {
        "trusted": true,
        "id": "c5vdjX_3DqX8"
      },
      "execution_count": null,
      "outputs": []
    },
    {
      "cell_type": "code",
      "source": [
        "lr5.params"
      ],
      "metadata": {
        "trusted": true,
        "id": "-2uC4PchDqX8"
      },
      "execution_count": null,
      "outputs": []
    },
    {
      "cell_type": "code",
      "source": [
        "print(lr5.summary())"
      ],
      "metadata": {
        "trusted": true,
        "id": "-YMarwE7DqYA"
      },
      "execution_count": null,
      "outputs": []
    },
    {
      "cell_type": "markdown",
      "source": [
        "## Model 6"
      ],
      "metadata": {
        "id": "DJOh5LDqDqYA"
      }
    },
    {
      "cell_type": "code",
      "source": [
        "X_train_new = X_train_new.drop([\"sulphates\"], axis = 1)"
      ],
      "metadata": {
        "trusted": true,
        "id": "SwTksVoDDqYB"
      },
      "execution_count": null,
      "outputs": []
    },
    {
      "cell_type": "markdown",
      "source": [
        "### VIF"
      ],
      "metadata": {
        "id": "ICkQy0usDqYB"
      }
    },
    {
      "cell_type": "code",
      "source": [
        "from statsmodels.stats.outliers_influence import variance_inflation_factor\n",
        "vif = pd.DataFrame()\n",
        "vif['Features'] = X_train_new.columns\n",
        "vif['VIF'] = [variance_inflation_factor(X_train_new.values, i) for i in range(X_train_new.shape[1])]\n",
        "vif['VIF'] = round(vif['VIF'], 2)\n",
        "vif = vif.sort_values(by = \"VIF\", ascending = False)\n",
        "vif"
      ],
      "metadata": {
        "trusted": true,
        "id": "t-LEXik_DqYB"
      },
      "execution_count": null,
      "outputs": []
    },
    {
      "cell_type": "code",
      "source": [
        "X_train_lm6 = sm.add_constant(X_train_new)\n",
        "lr6 = sm.OLS(y_train, X_train_lm6).fit()"
      ],
      "metadata": {
        "trusted": true,
        "id": "AQ4sObPeDqYB"
      },
      "execution_count": null,
      "outputs": []
    },
    {
      "cell_type": "code",
      "source": [
        "lr6.params"
      ],
      "metadata": {
        "trusted": true,
        "id": "REaX7hOKDqYC"
      },
      "execution_count": null,
      "outputs": []
    },
    {
      "cell_type": "code",
      "source": [
        "print(lr6.summary())"
      ],
      "metadata": {
        "trusted": true,
        "id": "j2YoDNXvDqYC"
      },
      "execution_count": null,
      "outputs": []
    },
    {
      "cell_type": "markdown",
      "source": [
        "### Model 7"
      ],
      "metadata": {
        "id": "tRtvaKQGDqYC"
      }
    },
    {
      "cell_type": "code",
      "source": [
        "X_train_new = X_train_new.drop([\"chlorides\"], axis = 1)"
      ],
      "metadata": {
        "trusted": true,
        "id": "GntiPnmiDqYC"
      },
      "execution_count": null,
      "outputs": []
    },
    {
      "cell_type": "markdown",
      "source": [
        "### VIF"
      ],
      "metadata": {
        "id": "_UOY2kSWDqYC"
      }
    },
    {
      "cell_type": "code",
      "source": [
        "from statsmodels.stats.outliers_influence import variance_inflation_factor\n",
        "vif = pd.DataFrame()\n",
        "vif['Features'] = X_train_new.columns\n",
        "vif['VIF'] = [variance_inflation_factor(X_train_new.values, i) for i in range(X_train_new.shape[1])]\n",
        "vif['VIF'] = round(vif['VIF'], 2)\n",
        "vif = vif.sort_values(by = \"VIF\", ascending = False)\n",
        "vif"
      ],
      "metadata": {
        "trusted": true,
        "id": "EdanmeOoDqYC"
      },
      "execution_count": null,
      "outputs": []
    },
    {
      "cell_type": "code",
      "source": [
        "X_train_lm7 = sm.add_constant(X_train_new)\n",
        "lr7 = sm.OLS(y_train, X_train_lm7).fit()"
      ],
      "metadata": {
        "trusted": true,
        "id": "9AozP2DfDqYD"
      },
      "execution_count": null,
      "outputs": []
    },
    {
      "cell_type": "code",
      "source": [
        "lr7.params"
      ],
      "metadata": {
        "trusted": true,
        "id": "q-DQ8CAcDqYD"
      },
      "execution_count": null,
      "outputs": []
    },
    {
      "cell_type": "code",
      "source": [
        "print(lr7.summary())"
      ],
      "metadata": {
        "trusted": true,
        "id": "Py0aQ8h7DqYD"
      },
      "execution_count": null,
      "outputs": []
    },
    {
      "cell_type": "markdown",
      "source": [
        "## Model 8"
      ],
      "metadata": {
        "id": "RpvKcC1TDqYD"
      }
    },
    {
      "cell_type": "code",
      "source": [
        "X_train_new = X_train_new.drop([\"total sulfur dioxide\"], axis = 1)"
      ],
      "metadata": {
        "trusted": true,
        "id": "pi1vpriIDqYD"
      },
      "execution_count": null,
      "outputs": []
    },
    {
      "cell_type": "markdown",
      "source": [
        "### VIF"
      ],
      "metadata": {
        "id": "DlJQkEqBDqYE"
      }
    },
    {
      "cell_type": "code",
      "source": [
        "from statsmodels.stats.outliers_influence import variance_inflation_factor\n",
        "vif = pd.DataFrame()\n",
        "vif['Features'] = X_train_new.columns\n",
        "vif['VIF'] = [variance_inflation_factor(X_train_new.values, i) for i in range(X_train_new.shape[1])]\n",
        "vif['VIF'] = round(vif['VIF'], 2)\n",
        "vif = vif.sort_values(by = \"VIF\", ascending = False)\n",
        "vif\n",
        "\n"
      ],
      "metadata": {
        "trusted": true,
        "id": "qoJdnZDBDqYE"
      },
      "execution_count": null,
      "outputs": []
    },
    {
      "cell_type": "code",
      "source": [
        "X_train_lm8 = sm.add_constant(X_train_new)\n",
        "lr8 = sm.OLS(y_train, X_train_lm8).fit()\n",
        "\n"
      ],
      "metadata": {
        "trusted": true,
        "id": "A4O8mt6DDqYE"
      },
      "execution_count": null,
      "outputs": []
    },
    {
      "cell_type": "code",
      "source": [
        "lr8.params\n",
        "\n"
      ],
      "metadata": {
        "trusted": true,
        "id": "TtThgP37DqYE"
      },
      "execution_count": null,
      "outputs": []
    },
    {
      "cell_type": "code",
      "source": [
        "print(lr8.summary())"
      ],
      "metadata": {
        "trusted": true,
        "id": "ommPY0RxDqYE"
      },
      "execution_count": null,
      "outputs": []
    },
    {
      "cell_type": "markdown",
      "source": [
        "# Final Model Interpretation"
      ],
      "metadata": {
        "id": "4xCD-5saDqYE"
      }
    },
    {
      "cell_type": "markdown",
      "source": [
        "## Hypothesis Testing:\n",
        "\n",
        "Hypothesis testing states that:\n",
        "\n",
        "H0:B1=B2=...=Bn=0\n",
        "H1: at least one Bi!=0\n",
        "\n",
        "lr8 model coefficient values\n",
        "- const                0.4990\n",
        "- volatile acidity    -0.3828     \n",
        "- alcohol              0.4148"
      ],
      "metadata": {
        "trusted": true,
        "id": "fLvwaxLrDqYF"
      }
    },
    {
      "cell_type": "markdown",
      "source": [
        "### F Statistics\n",
        "F-Statistics is used for testing the overall significance of the Model: Higher the F-Statistics, more significant the Model is.\n",
        "\n",
        "F-statistic:                     227.8\n",
        "Prob (F-statistic):           1.68e-81\n",
        "The F-Statistics value of 227.8 (which is greater than 1) and the p-value of '~0.0000' states that the overall model is significant"
      ],
      "metadata": {
        "id": "xzS0jmGJDqYF"
      }
    },
    {
      "cell_type": "markdown",
      "source": [
        "### The equation of best fitted surface based on model lr8:\n",
        "quality = 0.4990 - (volatile acidity × 0.3828) + (alcohol × 0.4148 )"
      ],
      "metadata": {
        "id": "82T6B1aIDqYF"
      }
    },
    {
      "cell_type": "markdown",
      "source": [
        "### Interpretation of Coefficients:\n",
        "volatile acidity: A coefficient value of ‘0.3838’ indicated that a unit decrease in volatite acidity variable, increases the quality numbers by 0.3828 units.\n",
        "\n",
        "alcohol: A coefficient value of ‘0.4148’ indicated that a unit increase in alcohol variable, increases the quality numbers by 0.4148 units."
      ],
      "metadata": {
        "id": "FOr5UNKzDqYF"
      }
    },
    {
      "cell_type": "markdown",
      "source": [
        "# ASSUMPTIONS\n",
        "\n",
        "## Error terms are normally distributed with mean zero (not X, Y)\n",
        "\n",
        "### Residual Analysis Of Training Data"
      ],
      "metadata": {
        "id": "UdUBLnXFDqYF"
      }
    },
    {
      "cell_type": "code",
      "source": [
        "y_train_pred = lr8.predict(X_train_lm8)"
      ],
      "metadata": {
        "trusted": true,
        "id": "UB1mMPv8DqYG"
      },
      "execution_count": null,
      "outputs": []
    },
    {
      "cell_type": "code",
      "source": [
        "res = y_train-y_train_pred\n",
        "# Plot the histogram of the error terms\n",
        "fig = plt.figure()\n",
        "sns.distplot((res), bins = 20)\n",
        "fig.suptitle('Error Terms', fontsize = 20)                  # Plot heading\n",
        "plt.xlabel('Errors', fontsize = 18)"
      ],
      "metadata": {
        "trusted": true,
        "id": "XgAv7VuoDqYG"
      },
      "execution_count": null,
      "outputs": []
    },
    {
      "cell_type": "markdown",
      "source": [
        "## There is a linear relationship between X and Y"
      ],
      "metadata": {
        "id": "F-uF-W4ADqYG"
      }
    },
    {
      "cell_type": "code",
      "source": [
        "wine_num=wine[[ 'volatile acidity', 'alcohol', 'quality']]\n",
        "\n",
        "sns.pairplot(wine_num)\n",
        "plt.show()"
      ],
      "metadata": {
        "trusted": true,
        "id": "LXwQRTBqDqYG"
      },
      "execution_count": null,
      "outputs": []
    },
    {
      "cell_type": "markdown",
      "source": [
        "### There is No Multicollinearity between the predictor variables"
      ],
      "metadata": {
        "id": "-S7PAXxpDqYG"
      }
    },
    {
      "cell_type": "code",
      "source": [
        "vif = pd.DataFrame()\n",
        "from statsmodels.stats.outliers_influence import variance_inflation_factor\n",
        "vif['Features'] = X_train_new.columns\n",
        "vif['VIF'] = [variance_inflation_factor(X_train_new.values, i) for i in range(X_train_new.shape[1])]\n",
        "vif['VIF'] = round(vif['VIF'], 2)\n",
        "vif = vif.sort_values(by = \"VIF\", ascending = False)\n",
        "vif"
      ],
      "metadata": {
        "trusted": true,
        "id": "U5Hk2eJfDqYH"
      },
      "execution_count": null,
      "outputs": []
    },
    {
      "cell_type": "markdown",
      "source": [
        "# MAKING PREDICTION USING FINAL MODEL"
      ],
      "metadata": {
        "id": "gLd5B5tYDqYH"
      }
    },
    {
      "cell_type": "markdown",
      "source": [
        "## Applying the scaling on the test sets"
      ],
      "metadata": {
        "id": "OtgSYVdLDqYH"
      }
    },
    {
      "cell_type": "code",
      "source": [
        "df_test[:]=scaler.fit_transform(df_test[:])"
      ],
      "metadata": {
        "trusted": true,
        "id": "3mA2YXXuDqYH"
      },
      "execution_count": null,
      "outputs": []
    },
    {
      "cell_type": "code",
      "source": [
        "df_test.head()"
      ],
      "metadata": {
        "trusted": true,
        "id": "8ke_zwI_DqYH"
      },
      "execution_count": null,
      "outputs": []
    },
    {
      "cell_type": "code",
      "source": [
        "df_test.describe()"
      ],
      "metadata": {
        "trusted": true,
        "id": "kVlle1RHDqYH"
      },
      "execution_count": null,
      "outputs": []
    },
    {
      "cell_type": "markdown",
      "source": [
        "### Dividing into X_test and y_test"
      ],
      "metadata": {
        "id": "0HryKklMDqYH"
      }
    },
    {
      "cell_type": "code",
      "source": [
        "y_test = df_test.pop('quality')\n",
        "X_test = df_test\n",
        "X_test.info()"
      ],
      "metadata": {
        "trusted": true,
        "id": "X2oX5ZZtDqYI"
      },
      "execution_count": null,
      "outputs": []
    },
    {
      "cell_type": "code",
      "source": [
        "#Selecting the variables that were part of final model.\n",
        "col1=X_train_new.columns\n",
        "X_test=X_test[col1]\n",
        "# Adding constant variable to test dataframe\n",
        "X_test_lm8 = sm.add_constant(X_test)\n",
        "X_test_lm8.info()"
      ],
      "metadata": {
        "trusted": true,
        "id": "ZiRjq83ADqYI"
      },
      "execution_count": null,
      "outputs": []
    },
    {
      "cell_type": "code",
      "source": [
        "y_pred = lr8.predict(X_test_lm8)"
      ],
      "metadata": {
        "trusted": true,
        "id": "PCF_haZGDqYI"
      },
      "execution_count": null,
      "outputs": []
    },
    {
      "cell_type": "code",
      "source": [
        "fig = plt.figure()\n",
        "plt.scatter(y_test, y_pred, alpha=.5)\n",
        "fig.suptitle('y_test vs y_pred', fontsize = 20)              # Plot heading\n",
        "plt.xlabel('y_test', fontsize = 18)                          # X-label\n",
        "plt.ylabel('y_pred', fontsize = 16)\n",
        "plt.show()"
      ],
      "metadata": {
        "trusted": true,
        "id": "_cq1SenADqYI"
      },
      "execution_count": null,
      "outputs": []
    },
    {
      "cell_type": "code",
      "source": [
        "df= pd.DataFrame({'Actual':y_test,'Predictions':y_pred})\n",
        "df['Predictions']= round(df['Predictions'],2)\n",
        "df.head()"
      ],
      "metadata": {
        "trusted": true,
        "id": "jIGuL4tuDqYJ"
      },
      "execution_count": null,
      "outputs": []
    },
    {
      "cell_type": "code",
      "source": [
        "sns.regplot('Actual','Predictions',data=df)"
      ],
      "metadata": {
        "trusted": true,
        "id": "iPBUzU5vDqYJ"
      },
      "execution_count": null,
      "outputs": []
    },
    {
      "cell_type": "markdown",
      "source": [
        "### R^2 Value for TEST"
      ],
      "metadata": {
        "id": "GPw3_Yn3DqYJ"
      }
    },
    {
      "cell_type": "code",
      "source": [
        "from sklearn.metrics import r2_score\n",
        "r2_score(y_test, y_pred)"
      ],
      "metadata": {
        "trusted": true,
        "id": "6qzVfznyDqYJ"
      },
      "execution_count": null,
      "outputs": []
    },
    {
      "cell_type": "markdown",
      "source": [
        "### Adjusted R^2 Value for TEST"
      ],
      "metadata": {
        "id": "tvsvmZ4_DqYJ"
      }
    },
    {
      "cell_type": "code",
      "source": [
        "r2=0.32264089150785114\n",
        "X_test.shape"
      ],
      "metadata": {
        "trusted": true,
        "id": "ik8nYC7eDqYJ"
      },
      "execution_count": null,
      "outputs": []
    },
    {
      "cell_type": "code",
      "source": [
        "n = X_test.shape[0]\n",
        "\n",
        "\n",
        "# Number of features (predictors, p) is the shape along axis 1\n",
        "p = X_test.shape[1]\n",
        "\n",
        "# We find the Adjusted R-squared using the formula\n",
        "\n",
        "adjusted_r2 = 1-(1-r2)*(n-1)/(n-p-1)\n",
        "adjusted_r2"
      ],
      "metadata": {
        "trusted": true,
        "id": "W9mhlngJDqYJ"
      },
      "execution_count": null,
      "outputs": []
    },
    {
      "cell_type": "markdown",
      "source": [
        "### Final Result Comparison"
      ],
      "metadata": {
        "id": "cFmUP6_mDqYK"
      }
    },
    {
      "cell_type": "markdown",
      "source": [
        "Train R^2 :0.325\n",
        "\n",
        "Train Adjusted R^2 :0.323\n",
        "\n",
        "Test R^2 :0.322\n",
        "\n",
        "Test Adjusted R^2 :0.319"
      ],
      "metadata": {
        "id": "T5UjUydxDqYK"
      }
    },
    {
      "cell_type": "markdown",
      "source": [
        "### Evaluating Model Performance:\n",
        "Mean Absolute Error (MAE) is the mean of the absolute value of the errors.\n",
        "\n",
        "Mean Squared Error (MSE) is the mean of the squared errors.\n",
        "\n",
        "Root Mean Squared Error (RMSE) is the square root of the mean of the squared errors."
      ],
      "metadata": {
        "id": "dE_-lGVaDqYK"
      }
    },
    {
      "cell_type": "code",
      "source": [
        "from sklearn import metrics\n",
        "\n",
        "print('MAE:', metrics.mean_absolute_error(y_test, y_pred))\n",
        "print('MSE:', metrics.mean_squared_error(y_test, y_pred))\n",
        "print('RMSE:', np.sqrt(metrics.mean_squared_error(y_test, y_pred)))"
      ],
      "metadata": {
        "trusted": true,
        "id": "XaAFDs5BDqYK"
      },
      "execution_count": null,
      "outputs": []
    },
    {
      "cell_type": "markdown",
      "source": [
        "We want the value of RMSE to be as low as possible, as lower the RMSE value is, the better the model is with its predictions"
      ],
      "metadata": {
        "id": "rAz_NmacDqYK"
      }
    }
  ]
}